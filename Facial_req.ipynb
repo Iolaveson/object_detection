{
  "nbformat": 4,
  "nbformat_minor": 0,
  "metadata": {
    "colab": {
      "provenance": [],
      "include_colab_link": true
    },
    "kernelspec": {
      "name": "python3",
      "display_name": "Python 3"
    },
    "language_info": {
      "name": "python"
    }
  },
  "cells": [
    {
      "cell_type": "markdown",
      "metadata": {
        "id": "view-in-github",
        "colab_type": "text"
      },
      "source": [
        "<a href=\"https://colab.research.google.com/github/Iolaveson/object_detection/blob/main/Facial_req.ipynb\" target=\"_parent\"><img src=\"https://colab.research.google.com/assets/colab-badge.svg\" alt=\"Open In Colab\"/></a>"
      ]
    },
    {
      "cell_type": "code",
      "execution_count": null,
      "metadata": {
        "id": "BXvdsX24UsGH"
      },
      "outputs": [],
      "source": [
        "# imports\n",
        "import numpy as np\n",
        "import cv2\n",
        "import tensorflow as tf\n",
        "from keras.models import Sequential\n",
        "from keras.layers import Dense, Dropout, Flatten, Conv2D, MaxPooling2D\n",
        "from keras.optimizers import Adam\n",
        "from keras.preprocessing.image import ImageDataGenerator"
      ]
    },
    {
      "cell_type": "code",
      "source": [
        "# load data\n",
        "train_dir = 'data/train'\n",
        "test_dir = 'data/test'"
      ],
      "metadata": {
        "id": "C5TZ-baFykZQ"
      },
      "execution_count": null,
      "outputs": []
    },
    {
      "cell_type": "code",
      "source": [
        "#preproccessing\n",
        "train_data = ImageDataGenerator(rescale = 1./255) #rescaling factor. Defaults to None. If None or 0, no rescaling is applied, otherwise we multiply the data by the value provided (after applying all other transformations).\n",
        "test_data = ImageDataGenerator(rescale = 1./255)\n",
        "train_generator = train_data.flow_from_directory(\n",
        "# Takes the path to a directory & generates batches of augmented data.\n",
        "# link to flow_from_directory module \n",
        "# http://bit.ly/keras_flow_from_dataframe\n",
        "\n",
        "    train_dir, # directory\n",
        "    target_size = (48,48), #48 by 48 pixels will resize images\n",
        "    batch_size = 64, # number of training examples\n",
        "    color_mode = 'grayscale',\n",
        "    class_mode = 'categorical' #\"categorical\" will be 2D one-hot encoded labels\n",
        ")\n",
        "\n",
        "test_generator = test_data.flow_from_directory(\n",
        "    test_dir,\n",
        "    target_size = (48,48), #48 by 48 pixels will resize images\n",
        "    batch_size = 64, # number of training examples\n",
        "    color_mode = 'grayscale',\n",
        "    class_mode = 'categorical' #\"categorical\" will be 2D one-hot encoded labels\n",
        ")"
      ],
      "metadata": {
        "id": "-VGbj2vRyrMZ"
      },
      "execution_count": null,
      "outputs": []
    }
  ]
}